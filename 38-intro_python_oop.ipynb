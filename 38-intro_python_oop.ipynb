{
  "nbformat": 4,
  "nbformat_minor": 0,
  "metadata": {
    "colab": {
      "provenance": [],
      "toc_visible": true
    },
    "kernelspec": {
      "name": "python3",
      "display_name": "Python 3"
    },
    "language_info": {
      "name": "python"
    }
  },
  "cells": [
    {
      "cell_type": "code",
      "execution_count": 2,
      "metadata": {
        "id": "pxAy17B0wN5e"
      },
      "outputs": [],
      "source": [
        "class Person:\n",
        "    def __init__(self, name, age):   ### سلف رزرو شدست ولی نام و سن چیزی ه خودمون در نظر گرفتیم و میتونه کم یا زیاد باشه\n",
        "        self.name = name\n",
        "        self.age = age"
      ]
    },
    {
      "cell_type": "code",
      "source": [
        "person1 = Person(\"Alice\", 25)\n",
        "person2 = Person(\"Bob\", 30)"
      ],
      "metadata": {
        "id": "VcGkb1eSwUri"
      },
      "execution_count": 3,
      "outputs": []
    },
    {
      "cell_type": "code",
      "source": [
        "print(person1.name, person1.age)\n",
        "print(person2.name, person2.age)"
      ],
      "metadata": {
        "colab": {
          "base_uri": "https://localhost:8080/"
        },
        "id": "2WxNLpRwwX7U",
        "outputId": "9bcb1f2a-4137-4fca-d1dd-7b2ee9da91f5"
      },
      "execution_count": 4,
      "outputs": [
        {
          "output_type": "stream",
          "name": "stdout",
          "text": [
            "Alice 25\n",
            "Bob 30\n"
          ]
        }
      ]
    },
    {
      "cell_type": "code",
      "source": [
        "class Person:\n",
        "    def __init__(self, name, age):\n",
        "        self.name = name\n",
        "        self.age = age\n",
        "\n",
        "    def greet(self):\n",
        "        print(f\"Hello, my name is {self.name} and I'm {self.age} years old.\")\n",
        "\n",
        "person1 = Person(\"Alice\", 25)\n",
        "person1.greet()  # Output: Hello, my name is Alice and I'm 25 years old."
      ],
      "metadata": {
        "colab": {
          "base_uri": "https://localhost:8080/"
        },
        "id": "ug_3dmLqwZlH",
        "outputId": "131c98cb-33c9-49e0-801f-7028391bd95c"
      },
      "execution_count": 5,
      "outputs": [
        {
          "output_type": "stream",
          "name": "stdout",
          "text": [
            "Hello, my name is Alice and I'm 25 years old.\n"
          ]
        }
      ]
    },
    {
      "cell_type": "code",
      "source": [
        "#### Excercise\n",
        "class Person:\n",
        "    def __init__(self, name, age, education):\n",
        "        self.name = name\n",
        "        self.age = age\n",
        "        self.education=education\n",
        "\n",
        "    def greet(self):\n",
        "        print(f\"Hello, my name is {self.name} and I'm {self.age} years old and I have a {self.education}'s degree\")\n",
        "\n",
        "person1 = Person(\"Alice\", 25, 'Master')\n",
        "person1.greet()  # Output: Hello, my name is Alice and I'm 25 years old."
      ],
      "metadata": {
        "id": "d08RfagbHamy",
        "outputId": "897db969-c5d4-4e6e-de51-a7d891d26346",
        "colab": {
          "base_uri": "https://localhost:8080/"
        }
      },
      "execution_count": 16,
      "outputs": [
        {
          "output_type": "stream",
          "name": "stdout",
          "text": [
            "Hello, my name is Alice and I'm 25 years old and I have a Master's degree\n"
          ]
        }
      ]
    },
    {
      "cell_type": "code",
      "source": [
        "class Adder:\n",
        "    def __init__(self, num):\n",
        "        self.num = num\n",
        "\n",
        "    def __call__(self, x):\n",
        "        return self.num + x"
      ],
      "metadata": {
        "id": "nyufpZ90wv6q"
      },
      "execution_count": 17,
      "outputs": []
    },
    {
      "cell_type": "markdown",
      "source": [
        "وقتی به شی از جنس مثلا پرسن کال میذاری، اون شی دیگه اتومات میشه به خاطر کال، و میتونه هر چیزی که تو کال تعریف شده رو انجام بده"
      ],
      "metadata": {
        "id": "FC287aAHNc-v"
      }
    },
    {
      "cell_type": "code",
      "source": [
        "add5 = Adder(5)\n",
        "result = add5(10)#### میتونم add5 رو با add5()بنویسم چون call  رو فراخونی کردم\n",
        "print(result)  # Output: 15"
      ],
      "metadata": {
        "colab": {
          "base_uri": "https://localhost:8080/"
        },
        "id": "aZIZXEVSw1QN",
        "outputId": "6aeae0db-cf90-4655-eb2d-94db189ed391"
      },
      "execution_count": 19,
      "outputs": [
        {
          "output_type": "stream",
          "name": "stdout",
          "text": [
            "15\n"
          ]
        }
      ]
    },
    {
      "cell_type": "code",
      "source": [
        "#### بازنویسی کد بالا با call\n",
        "class Person:\n",
        "    def __init__(self, name, age, education):\n",
        "        self.name = name\n",
        "        self.age = age\n",
        "        self.education=education\n",
        "\n",
        "    def greet(self):\n",
        "        print(f\"Hello, my name is {self.name} and I'm {self.age} years old and I have a {self.education}'s degree\")\n",
        "    def __call__(self):\n",
        "      self.greet()\n",
        "\n",
        "person1 = Person(\"Alice\", 25, 'Master')\n",
        "person1()  # Output: Hello, my name is Alice and I'm 25 years old."
      ],
      "metadata": {
        "id": "gbPIESdwMCFf",
        "outputId": "ccb23249-3479-4f94-9d57-ce8a3fa4ef62",
        "colab": {
          "base_uri": "https://localhost:8080/"
        }
      },
      "execution_count": 18,
      "outputs": [
        {
          "output_type": "stream",
          "name": "stdout",
          "text": [
            "Hello, my name is Alice and I'm 25 years old and I have a Master's degree\n"
          ]
        }
      ]
    },
    {
      "cell_type": "code",
      "source": [
        "class Animal:\n",
        "    def __init__(self, name):\n",
        "        self.name = name\n",
        "\n",
        "    def speak(self):\n",
        "        print(f\"{self.name} is speaking.\")\n",
        "    def __call__(self):\n",
        "      self.speak()"
      ],
      "metadata": {
        "id": "lWKAYFqFw3cv"
      },
      "execution_count": 25,
      "outputs": []
    },
    {
      "cell_type": "code",
      "source": [
        "dog=Animal('Zarafe')\n",
        "dog()"
      ],
      "metadata": {
        "id": "6zwCdjuoQkuQ",
        "outputId": "3f08730f-a1c4-4f44-8a07-33d117f719cf",
        "colab": {
          "base_uri": "https://localhost:8080/"
        }
      },
      "execution_count": 26,
      "outputs": [
        {
          "output_type": "stream",
          "name": "stdout",
          "text": [
            "Zarafe is speaking.\n"
          ]
        }
      ]
    },
    {
      "cell_type": "code",
      "source": [
        "dog=Animal('Zarafe')\n",
        "dog.speak()"
      ],
      "metadata": {
        "id": "J6m1Bb2VQKHb",
        "outputId": "c735da77-c002-446e-e083-8b6ec3756d75",
        "colab": {
          "base_uri": "https://localhost:8080/"
        }
      },
      "execution_count": 23,
      "outputs": [
        {
          "output_type": "stream",
          "name": "stdout",
          "text": [
            "Zarafe is speaking.\n"
          ]
        }
      ]
    },
    {
      "cell_type": "code",
      "source": [
        "class Dog(Animal):\n",
        "    def __init__(self, name, breed):\n",
        "        super().__init__(name) ### منظورش اینه برو name  رو از طریق Animal بخون و درست کن\n",
        "        self.breed = breed\n",
        "\n",
        "    def speak(self):\n",
        "        print(f\"{self.name} is barking.\")\n",
        "    ###def __call__(self):\n",
        "        ###self.speak()\n"
      ],
      "metadata": {
        "id": "bmze01cXzTwW"
      },
      "execution_count": 33,
      "outputs": []
    },
    {
      "cell_type": "code",
      "source": [
        "animal = Animal(\"Generic Animal\")\n",
        "animal.speak()  # Output: Generic Animal is speaking.\n",
        "\n",
        "dog = Dog(\"Buddy\", \"Golden Retriever\")\n",
        "dog.speak()  # Output: Buddy is barking."
      ],
      "metadata": {
        "colab": {
          "base_uri": "https://localhost:8080/"
        },
        "id": "wopK6daTzddl",
        "outputId": "8788a5d3-a81f-4a4b-9825-f0536eae4311"
      },
      "execution_count": 35,
      "outputs": [
        {
          "output_type": "stream",
          "name": "stdout",
          "text": [
            "Generic Animal is speaking.\n",
            "Buddy is barking.\n"
          ]
        }
      ]
    },
    {
      "cell_type": "code",
      "source": [
        "class Human(Animal):\n",
        "    def __init__(self, name):\n",
        "        super().__init__(name)\n",
        "\n",
        "    def walk(self):\n",
        "        print(f\"{self.name} is walking.\")\n"
      ],
      "metadata": {
        "id": "7o0LlBxvzjUB"
      },
      "execution_count": 36,
      "outputs": []
    },
    {
      "cell_type": "code",
      "source": [
        "gholam = Human(\"gholam\")\n",
        "gholam.speak()\n",
        "gholam.walk()"
      ],
      "metadata": {
        "colab": {
          "base_uri": "https://localhost:8080/"
        },
        "id": "E2sVoWagzvui",
        "outputId": "ff1b5c41-d959-429c-a712-4e60bde7a887"
      },
      "execution_count": 37,
      "outputs": [
        {
          "output_type": "stream",
          "name": "stdout",
          "text": [
            "gholam is speaking.\n",
            "gholam is walking.\n"
          ]
        }
      ]
    }
  ]
}