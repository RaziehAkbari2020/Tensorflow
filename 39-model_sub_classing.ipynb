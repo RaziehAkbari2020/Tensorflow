{
  "nbformat": 4,
  "nbformat_minor": 0,
  "metadata": {
    "colab": {
      "provenance": [],
      "gpuType": "T4",
      "toc_visible": true
    },
    "kernelspec": {
      "name": "python3",
      "display_name": "Python 3"
    },
    "language_info": {
      "name": "python"
    },
    "accelerator": "GPU"
  },
  "cells": [
    {
      "cell_type": "code",
      "source": [
        "import tensorflow as tf\n",
        "(x_train, y_train), (x_test, y_test) = tf.keras.datasets.mnist.load_data()"
      ],
      "metadata": {
        "id": "Ott435hHxvCY",
        "outputId": "e611f182-4b06-4bf7-fcea-f6673a43abea",
        "colab": {
          "base_uri": "https://localhost:8080/"
        }
      },
      "execution_count": 1,
      "outputs": [
        {
          "output_type": "stream",
          "name": "stdout",
          "text": [
            "Downloading data from https://storage.googleapis.com/tensorflow/tf-keras-datasets/mnist.npz\n",
            "11490434/11490434 [==============================] - 2s 0us/step\n"
          ]
        }
      ]
    },
    {
      "cell_type": "code",
      "source": [
        "x_train = x_train.reshape(-1, 28, 28, 1).astype('float32') / 255.0\n",
        "x_test = x_test.reshape(-1, 28, 28, 1).astype('float32') / 255.0"
      ],
      "metadata": {
        "id": "e1Id_0Opx-aQ"
      },
      "execution_count": 2,
      "outputs": []
    },
    {
      "cell_type": "code",
      "source": [
        "### تعریف شبکه از طریق ساب مدلها\n",
        "import tensorflow as tf\n",
        "from tensorflow import keras\n",
        "\n",
        "class MyModel(keras.Model):\n",
        "    def __init__(self):\n",
        "        super(MyModel, self).__init__() ### گفته هر چی از مدلها به ارث بردی اینجا بیار\n",
        "        self.conv1 = keras.layers.Conv2D(32, 3, activation='relu') ### اینجا لایه ها رو مستقل ساخت\n",
        "        self.flatten = keras.layers.Flatten()\n",
        "        self.dense1 = keras.layers.Dense(64, activation='relu')\n",
        "        self.dense2 = keras.layers.Dense(10, activation='softmax')\n",
        "\n",
        "    def call(self, inputs): ##3 اینجا لایه ها رو متصل کرد\n",
        "        x = self.conv1(inputs)\n",
        "        x = self.flatten(x)\n",
        "        x = self.dense1(x)\n",
        "        return self.dense2(x)\n",
        "\n",
        "model = MyModel()\n",
        "\n",
        "### call ر و تو آندرلاین نذاشت چون میخواد بازم پایین از مدل بابت فیت و پردیکت استفاده کنه"
      ],
      "metadata": {
        "id": "hFvamGgsyB20"
      },
      "execution_count": 6,
      "outputs": []
    },
    {
      "cell_type": "code",
      "source": [
        "model.compile(optimizer='adam',\n",
        "              loss=tf.keras.losses.SparseCategoricalCrossentropy(),\n",
        "              metrics=['accuracy'])\n",
        "\n",
        "model.fit(x_train, y_train, epochs=10, validation_data=(x_test, y_test))"
      ],
      "metadata": {
        "id": "joF02n50yK4w",
        "outputId": "7ff14082-dbfe-4556-a7fd-a0812ce7a354",
        "colab": {
          "base_uri": "https://localhost:8080/"
        }
      },
      "execution_count": 7,
      "outputs": [
        {
          "output_type": "stream",
          "name": "stdout",
          "text": [
            "Epoch 1/10\n",
            "1875/1875 [==============================] - 10s 4ms/step - loss: 0.1470 - accuracy: 0.9565 - val_loss: 0.0687 - val_accuracy: 0.9777\n",
            "Epoch 2/10\n",
            "1875/1875 [==============================] - 6s 3ms/step - loss: 0.0496 - accuracy: 0.9850 - val_loss: 0.0570 - val_accuracy: 0.9804\n",
            "Epoch 3/10\n",
            "1875/1875 [==============================] - 7s 4ms/step - loss: 0.0282 - accuracy: 0.9908 - val_loss: 0.0601 - val_accuracy: 0.9807\n",
            "Epoch 4/10\n",
            "1875/1875 [==============================] - 7s 4ms/step - loss: 0.0163 - accuracy: 0.9947 - val_loss: 0.0540 - val_accuracy: 0.9841\n",
            "Epoch 5/10\n",
            "1875/1875 [==============================] - 6s 3ms/step - loss: 0.0113 - accuracy: 0.9961 - val_loss: 0.0618 - val_accuracy: 0.9827\n",
            "Epoch 6/10\n",
            "1875/1875 [==============================] - 7s 4ms/step - loss: 0.0086 - accuracy: 0.9974 - val_loss: 0.0770 - val_accuracy: 0.9812\n",
            "Epoch 7/10\n",
            "1875/1875 [==============================] - 6s 3ms/step - loss: 0.0077 - accuracy: 0.9972 - val_loss: 0.0756 - val_accuracy: 0.9820\n",
            "Epoch 8/10\n",
            "1875/1875 [==============================] - 7s 4ms/step - loss: 0.0060 - accuracy: 0.9980 - val_loss: 0.0706 - val_accuracy: 0.9828\n",
            "Epoch 9/10\n",
            "1875/1875 [==============================] - 6s 3ms/step - loss: 0.0032 - accuracy: 0.9990 - val_loss: 0.0796 - val_accuracy: 0.9833\n",
            "Epoch 10/10\n",
            "1875/1875 [==============================] - 7s 4ms/step - loss: 0.0053 - accuracy: 0.9982 - val_loss: 0.0862 - val_accuracy: 0.9825\n"
          ]
        },
        {
          "output_type": "execute_result",
          "data": {
            "text/plain": [
              "<keras.src.callbacks.History at 0x7d4b13fa9270>"
            ]
          },
          "metadata": {},
          "execution_count": 7
        }
      ]
    },
    {
      "cell_type": "code",
      "source": [
        "test_loss, test_acc = model.evaluate(x_test, y_test)\n",
        "print('Test accuracy:', test_acc)"
      ],
      "metadata": {
        "id": "Fzmmnxz4yLgb",
        "outputId": "20154ff2-d24c-477e-edc7-adbeb59c4155",
        "colab": {
          "base_uri": "https://localhost:8080/"
        }
      },
      "execution_count": 8,
      "outputs": [
        {
          "output_type": "stream",
          "name": "stdout",
          "text": [
            "313/313 [==============================] - 1s 3ms/step - loss: 0.0862 - accuracy: 0.9825\n",
            "Test accuracy: 0.9825000166893005\n"
          ]
        }
      ]
    }
  ]
}